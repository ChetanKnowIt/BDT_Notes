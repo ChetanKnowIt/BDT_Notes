{
  "nbformat": 4,
  "nbformat_minor": 0,
  "metadata": {
    "colab": {
      "provenance": [],
      "authorship_tag": "ABX9TyONYngur+BhumyLoKuqKcb/",
      "include_colab_link": true
    },
    "kernelspec": {
      "name": "python3",
      "display_name": "Python 3"
    },
    "language_info": {
      "name": "python"
    }
  },
  "cells": [
    {
      "cell_type": "markdown",
      "metadata": {
        "id": "view-in-github",
        "colab_type": "text"
      },
      "source": [
        "<a href=\"https://colab.research.google.com/github/ChetanKnowIt/BDT_Notes/blob/main/HBase_Pyspark_Demo.ipynb\" target=\"_parent\"><img src=\"https://colab.research.google.com/assets/colab-badge.svg\" alt=\"Open In Colab\"/></a>"
      ]
    },
    {
      "cell_type": "markdown",
      "source": [
        "<h1 align=\"center\" > PySpark⚡ HBase🐬 connectivity </h1>\n",
        "\n",
        "<hr />"
      ],
      "metadata": {
        "id": "d44MrVreY4mt"
      }
    },
    {
      "cell_type": "markdown",
      "source": [
        "## Requirements/Prerequisites: \n",
        "### 1. Fully Distributed mode installation (Multinode Hadoop environment + HBase installation) from here [Guru99 installtion link](https://www.guru99.com/hbase-installation-guide.html)\n",
        "### 2. pip install pyspark \n",
        "### 3. pip install happybase\n",
        "### 4. \n",
        "\n",
        "\n",
        "\n"
      ],
      "metadata": {
        "id": "TywY6V_fZMV2"
      }
    },
    {
      "cell_type": "markdown",
      "source": [
        "## Flow: \n"
      ],
      "metadata": {
        "id": "DB3gHnSUaC3k"
      }
    },
    {
      "cell_type": "code",
      "source": [
        "from IPython.display import Image\n",
        "Image(url=\"https://drive.google.com/u/0/uc?id=12AWXzV0JAdP0uZeo7lrdt6_v3Po19bL9\")"
      ],
      "metadata": {
        "colab": {
          "base_uri": "https://localhost:8080/",
          "height": 102
        },
        "id": "0QPleMP_cNOt",
        "outputId": "e3737e66-4f1c-4596-d084-90872f8c3f3f"
      },
      "execution_count": 9,
      "outputs": [
        {
          "output_type": "execute_result",
          "data": {
            "text/html": [
              "<img src=\"https://drive.google.com/u/0/uc?id=12AWXzV0JAdP0uZeo7lrdt6_v3Po19bL9\"/>"
            ],
            "text/plain": [
              "<IPython.core.display.Image object>"
            ]
          },
          "metadata": {},
          "execution_count": 9
        }
      ]
    },
    {
      "cell_type": "markdown",
      "source": [
        "### 1. We can start with reading file from HDFS, processing and dumping on HBase from pandas \n",
        " https://happybase.readthedocs.io/en/latest/user.html example table.put('2',{'f1': 'hey'})"
      ],
      "metadata": {
        "id": "kq0OajPGarWX"
      }
    },
    {
      "cell_type": "code",
      "source": [
        "import happybase\n",
        "import pandas as pd\n",
        "\n",
        "# Load data into a Pandas DataFrame\n",
        "data = pd.read_csv('my_data.csv')\n",
        "\n",
        "# Create a connection object to HBase\n",
        "connection = happybase.Connection('localhost', port=9090)\n",
        "\n",
        "# Create a table object in Happybase\n",
        "table_name = 'my_table'\n",
        "column_family = 'my_cf'\n",
        "table = connection.table(table_name)\n",
        "\n",
        "# Iterate over the rows in the Pandas DataFrame\n",
        "for _, row in data.iterrows():\n",
        "    # Extract data from the row\n",
        "    row_key = row['my_key_column']\n",
        "    data_dict = {\n",
        "        f'{column_family}:{column}': str(row[column])\n",
        "        for column in data.columns\n",
        "        if column != 'my_key_column'\n",
        "    }\n",
        "    \n",
        "    # Write the row to HBase\n",
        "    table.put(row_key, data_dict)\n"
      ],
      "metadata": {
        "id": "9nx9gERieTlT"
      },
      "execution_count": null,
      "outputs": []
    },
    {
      "cell_type": "markdown",
      "source": [
        "### 2. then we can retrieve values with this example below"
      ],
      "metadata": {
        "id": "vo0yPgYCeV8k"
      }
    },
    {
      "cell_type": "code",
      "source": [
        "import happybase\n",
        "from pyspark.sql import SparkSession\n",
        "\n",
        "# Create a HBase connection object\n",
        "connection = happybase.Connection('localhost', port=9090)\n",
        "\n",
        "# Create a table object\n",
        "table = connection.table('my_table')\n",
        "\n",
        "# Retrieve data from HBase table\n",
        "data = []\n",
        "for key, values in table.scan():\n",
        "    row = {}\n",
        "    row['key'] = key\n",
        "    for column, value in values.items():\n",
        "        row[column.decode('utf-8')] = value.decode('utf-8')\n",
        "    data.append(row)\n",
        "\n",
        "# Convert HBase data to PySpark DataFrame\n",
        "spark = SparkSession.builder.appName('HBase to PySpark').getOrCreate()\n",
        "df = spark.createDataFrame(data)\n",
        "\n",
        "# Print PySpark DataFrame\n",
        "df.show()\n"
      ],
      "metadata": {
        "id": "pjk9NO58YrNS"
      },
      "execution_count": null,
      "outputs": []
    },
    {
      "cell_type": "markdown",
      "source": [
        "### 3. we use this spark dataframe for model training and evaluation \n",
        "### 4. we dump data back to HBase with this example below"
      ],
      "metadata": {
        "id": "jhQpyceiaRjE"
      }
    },
    {
      "cell_type": "code",
      "source": [
        "import happybase\n",
        "import pickle\n",
        "from pyspark.ml.classification import LogisticRegression\n",
        "from pyspark.ml.evaluation import BinaryClassificationEvaluator\n",
        "from pyspark.ml.feature import VectorAssembler\n",
        "from pyspark.sql import SparkSession\n",
        "\n",
        "# Train a logistic regression model in Spark\n",
        "spark = SparkSession.builder.appName('Logistic Regression').getOrCreate()\n",
        "data = spark.read.csv('my_data.csv', header=True, inferSchema=True)\n",
        "assembler = VectorAssembler(inputCols=['feature1', 'feature2'], outputCol='features')\n",
        "data = assembler.transform(data)\n",
        "train, test = data.randomSplit([0.7, 0.3])\n",
        "lr = LogisticRegression()\n",
        "model = lr.fit(train)\n",
        "predictions = model.transform(test)\n",
        "evaluator = BinaryClassificationEvaluator()\n",
        "auc = evaluator.evaluate(predictions)\n",
        "\n",
        "# Serialize the results\n",
        "results = {'auc': auc}\n",
        "serialized_results = pickle.dumps(results)\n",
        "\n",
        "# Create a connection object to HBase\n",
        "connection = happybase.Connection('localhost', port=9090)\n",
        "\n",
        "# Create a table object in Happybase\n",
        "table_name = 'my_table'\n",
        "table = connection.table(table_name)\n",
        "\n",
        "# Write the results to HBase\n",
        "row_key = 'my_row'\n",
        "column_family = 'results'\n",
        "column_qualifier = 'logistic_regression'\n",
        "table.put(row_key, {f'{column_family}:{column_qualifier}': serialized_results})\n"
      ],
      "metadata": {
        "id": "klLlHdYdYtVy"
      },
      "execution_count": null,
      "outputs": []
    }
  ]
}