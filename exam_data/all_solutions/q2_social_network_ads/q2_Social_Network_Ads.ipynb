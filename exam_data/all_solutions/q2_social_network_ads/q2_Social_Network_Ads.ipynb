{
  "nbformat": 4,
  "nbformat_minor": 0,
  "metadata": {
    "colab": {
      "provenance": []
    },
    "kernelspec": {
      "name": "python3",
      "display_name": "Python 3"
    },
    "language_info": {
      "name": "python"
    }
  },
  "cells": [
    {
      "cell_type": "code",
      "execution_count": 1,
      "metadata": {
        "colab": {
          "base_uri": "https://localhost:8080/"
        },
        "id": "lKDrHo_62E6z",
        "outputId": "1b153759-d05b-41c6-9c50-b37abc9623a3"
      },
      "outputs": [
        {
          "output_type": "stream",
          "name": "stdout",
          "text": [
            "Looking in indexes: https://pypi.org/simple, https://us-python.pkg.dev/colab-wheels/public/simple/\n",
            "Collecting pyspark\n",
            "  Downloading pyspark-3.3.2.tar.gz (281.4 MB)\n",
            "\u001b[2K     \u001b[90m━━━━━━━━━━━━━━━━━━━━━━━━━━━━━━━━━━━━━━━\u001b[0m \u001b[32m281.4/281.4 MB\u001b[0m \u001b[31m3.3 MB/s\u001b[0m eta \u001b[36m0:00:00\u001b[0m\n",
            "\u001b[?25h  Preparing metadata (setup.py) ... \u001b[?25l\u001b[?25hdone\n",
            "Collecting py4j==0.10.9.5\n",
            "  Downloading py4j-0.10.9.5-py2.py3-none-any.whl (199 kB)\n",
            "\u001b[2K     \u001b[90m━━━━━━━━━━━━━━━━━━━━━━━━━━━━━━━━━━━━━━━\u001b[0m \u001b[32m199.7/199.7 KB\u001b[0m \u001b[31m7.1 MB/s\u001b[0m eta \u001b[36m0:00:00\u001b[0m\n",
            "\u001b[?25hBuilding wheels for collected packages: pyspark\n",
            "  Building wheel for pyspark (setup.py) ... \u001b[?25l\u001b[?25hdone\n",
            "  Created wheel for pyspark: filename=pyspark-3.3.2-py2.py3-none-any.whl size=281824025 sha256=636b8de358710cfba1d3b33d2fa0bde4ce1647a0247afd98b9ff24558bbb8f26\n",
            "  Stored in directory: /root/.cache/pip/wheels/b1/59/a0/a1a0624b5e865fd389919c1a10f53aec9b12195d6747710baf\n",
            "Successfully built pyspark\n",
            "Installing collected packages: py4j, pyspark\n",
            "Successfully installed py4j-0.10.9.5 pyspark-3.3.2\n"
          ]
        }
      ],
      "source": [
        "!pip install pyspark"
      ]
    },
    {
      "cell_type": "code",
      "execution_count": 2,
      "metadata": {
        "id": "Lt3VdGN12kkI"
      },
      "outputs": [],
      "source": [
        "from pyspark.sql import SparkSession"
      ]
    },
    {
      "cell_type": "code",
      "source": [
        "spark = SparkSession.builder.master(\"local[4]\")\\\n",
        ".appName(\"socialnetwork\")\\\n",
        ".getOrCreate()"
      ],
      "metadata": {
        "id": "mgptTjjN2yOv"
      },
      "execution_count": 3,
      "outputs": []
    },
    {
      "cell_type": "code",
      "source": [
        "sc = spark.sparkContext"
      ],
      "metadata": {
        "id": "8txzSVw-3DvY"
      },
      "execution_count": 4,
      "outputs": []
    },
    {
      "cell_type": "code",
      "source": [
        "df = spark.read.options(header=True,inferSchema=True).csv(\"Social_Network_Ads.csv\")"
      ],
      "metadata": {
        "id": "fo85F_bk3GNL"
      },
      "execution_count": 5,
      "outputs": []
    },
    {
      "cell_type": "markdown",
      "source": [
        "# Exploratory Analysis"
      ],
      "metadata": {
        "id": "mrZx1JSHClwX"
      }
    },
    {
      "cell_type": "code",
      "source": [
        "df.summary().show()"
      ],
      "metadata": {
        "colab": {
          "base_uri": "https://localhost:8080/"
        },
        "id": "izEgNuibT-v7",
        "outputId": "5703093c-0aea-4826-c0ac-d5bee3c6dbd5"
      },
      "execution_count": 6,
      "outputs": [
        {
          "output_type": "stream",
          "name": "stdout",
          "text": [
            "+-------+-----------------+------+------------------+----------------+------------------+\n",
            "|summary|          User ID|Gender|               Age| EstimatedSalary|         Purchased|\n",
            "+-------+-----------------+------+------------------+----------------+------------------+\n",
            "|  count|              400|   400|               400|             400|               400|\n",
            "|   mean|  1.56915397575E7|  null|            37.655|         69742.5|            0.3575|\n",
            "| stddev|71658.32158119006|  null|10.482876597307927|34096.9602824248|0.4798639635968691|\n",
            "|    min|         15566689|Female|              18.0|         15000.0|                 0|\n",
            "|    25%|         15625395|  null|              29.0|         43000.0|                 0|\n",
            "|    50%|         15694288|  null|              37.0|         70000.0|                 0|\n",
            "|    75%|         15750335|  null|              46.0|         88000.0|                 1|\n",
            "|    max|         15815236|  Male|              60.0|        150000.0|                 1|\n",
            "+-------+-----------------+------+------------------+----------------+------------------+\n",
            "\n"
          ]
        }
      ]
    },
    {
      "cell_type": "code",
      "source": [
        "df.count()"
      ],
      "metadata": {
        "colab": {
          "base_uri": "https://localhost:8080/"
        },
        "id": "2gd75Dre3buC",
        "outputId": "5a4e1c7b-d63a-4030-be56-a4629f11d883"
      },
      "execution_count": 8,
      "outputs": [
        {
          "output_type": "execute_result",
          "data": {
            "text/plain": [
              "400"
            ]
          },
          "metadata": {},
          "execution_count": 8
        }
      ]
    },
    {
      "cell_type": "code",
      "source": [
        "# Check count\n",
        "df.groupby('Purchased').count().show()"
      ],
      "metadata": {
        "colab": {
          "base_uri": "https://localhost:8080/"
        },
        "id": "N2V0Jd-n3l8F",
        "outputId": "cf01821a-69af-43bc-fa30-115f2da8e787"
      },
      "execution_count": 7,
      "outputs": [
        {
          "output_type": "stream",
          "name": "stdout",
          "text": [
            "+---------+-----+\n",
            "|Purchased|count|\n",
            "+---------+-----+\n",
            "|        1|  143|\n",
            "|        0|  257|\n",
            "+---------+-----+\n",
            "\n"
          ]
        }
      ]
    },
    {
      "cell_type": "code",
      "source": [
        "# Check balance\n",
        "import seaborn as sns\n",
        "pdf = df.toPandas()\n",
        "sns.countplot(x=pdf[\"Purchased\"])"
      ],
      "metadata": {
        "colab": {
          "base_uri": "https://localhost:8080/",
          "height": 296
        },
        "id": "_y1monJH3sAE",
        "outputId": "6bb85a66-eeef-41be-bc68-83e87d864abe"
      },
      "execution_count": 9,
      "outputs": [
        {
          "output_type": "execute_result",
          "data": {
            "text/plain": [
              "<matplotlib.axes._subplots.AxesSubplot at 0x7fa0ae1deac0>"
            ]
          },
          "metadata": {},
          "execution_count": 9
        },
        {
          "output_type": "display_data",
          "data": {
            "text/plain": [
              "<Figure size 432x288 with 1 Axes>"
            ],
            "image/png": "[encoded data removed]"
          },
          "metadata": {
            "needs_background": "light"
          }
        }
      ]
    },
    {
      "cell_type": "code",
      "source": [
        "# Check types\n",
        "pdf.info()"
      ],
      "metadata": {
        "colab": {
          "base_uri": "https://localhost:8080/"
        },
        "id": "zhX6iVq94357",
        "outputId": "30eaa60b-3a1b-4af9-d6f4-5f57f1c477a6"
      },
      "execution_count": 10,
      "outputs": [
        {
          "output_type": "stream",
          "name": "stdout",
          "text": [
            "<class 'pandas.core.frame.DataFrame'>\n",
            "RangeIndex: 400 entries, 0 to 399\n",
            "Data columns (total 5 columns):\n",
            " #   Column           Non-Null Count  Dtype  \n",
            "---  ------           --------------  -----  \n",
            " 0   User ID          400 non-null    int32  \n",
            " 1   Gender           400 non-null    object \n",
            " 2   Age              400 non-null    float64\n",
            " 3   EstimatedSalary  400 non-null    float64\n",
            " 4   Purchased        400 non-null    int32  \n",
            "dtypes: float64(2), int32(2), object(1)\n",
            "memory usage: 12.6+ KB\n"
          ]
        }
      ]
    },
    {
      "cell_type": "code",
      "source": [
        "# Check missing values\n",
        "pdf.isnull().sum()"
      ],
      "metadata": {
        "colab": {
          "base_uri": "https://localhost:8080/"
        },
        "id": "UbM_w8A235JB",
        "outputId": "ee46d7de-9869-4cde-bd51-9ac50d8e68b6"
      },
      "execution_count": 11,
      "outputs": [
        {
          "output_type": "execute_result",
          "data": {
            "text/plain": [
              "User ID            0\n",
              "Gender             0\n",
              "Age                0\n",
              "EstimatedSalary    0\n",
              "Purchased          0\n",
              "dtype: int64"
            ]
          },
          "metadata": {},
          "execution_count": 11
        }
      ]
    },
    {
      "cell_type": "markdown",
      "source": [
        "#CONCLUSION BASED ON EDA: \n",
        "### NO MISSING VALUES"
      ],
      "metadata": {
        "id": "0bn8GtcO5JIa"
      }
    },
    {
      "cell_type": "markdown",
      "source": [
        "# ASSEMBLING FEATURES"
      ],
      "metadata": {
        "id": "xQSGFiFWFh8W"
      }
    },
    {
      "cell_type": "code",
      "source": [
        "from pyspark.ml.feature import VectorAssembler"
      ],
      "metadata": {
        "id": "Pe_-CGsrcvdm"
      },
      "execution_count": 12,
      "outputs": []
    },
    {
      "cell_type": "code",
      "source": [
        "\n",
        "required_features = ['Age','EstimatedSalary']\n",
        "assembler = VectorAssembler(inputCols = required_features, outputCol = 'features')\n",
        "transformed_data = assembler.transform(df)\n",
        "transformed_data.show(5)"
      ],
      "metadata": {
        "colab": {
          "base_uri": "https://localhost:8080/"
        },
        "id": "IqoAkY4PDzNp",
        "outputId": "9316bd92-fddf-45f7-e4ee-2cee7f49504d"
      },
      "execution_count": 15,
      "outputs": [
        {
          "output_type": "stream",
          "name": "stdout",
          "text": [
            "+--------+------+----+---------------+---------+--------------+\n",
            "| User ID|Gender| Age|EstimatedSalary|Purchased|      features|\n",
            "+--------+------+----+---------------+---------+--------------+\n",
            "|15624510|  Male|19.0|        19000.0|        0|[19.0,19000.0]|\n",
            "|15810944|  Male|35.0|        20000.0|        0|[35.0,20000.0]|\n",
            "|15668575|Female|26.0|        43000.0|        0|[26.0,43000.0]|\n",
            "|15603246|Female|27.0|        57000.0|        0|[27.0,57000.0]|\n",
            "|15804002|  Male|19.0|        76000.0|        0|[19.0,76000.0]|\n",
            "+--------+------+----+---------------+---------+--------------+\n",
            "only showing top 5 rows\n",
            "\n"
          ]
        }
      ]
    },
    {
      "cell_type": "code",
      "source": [
        "# SPLIT FOR REGRESSION\n",
        "training_data, test_data = transformed_data.randomSplit([0.75, 0.25], seed = 0)\n"
      ],
      "metadata": {
        "id": "KuECrJBFEYrw"
      },
      "execution_count": 16,
      "outputs": []
    },
    {
      "cell_type": "markdown",
      "source": [
        "# TRAINING MODEL: LOGISTICREGRESSION"
      ],
      "metadata": {
        "id": "AdZeXmyvFkKE"
      }
    },
    {
      "cell_type": "code",
      "source": [
        "from pyspark.ml.classification import LogisticRegression"
      ],
      "metadata": {
        "id": "NKRGeQyHEfGm"
      },
      "execution_count": 18,
      "outputs": []
    },
    {
      "cell_type": "code",
      "source": [
        "logr = LogisticRegression(labelCol='Purchased', featuresCol='features')"
      ],
      "metadata": {
        "id": "6UBglE94ExYM"
      },
      "execution_count": 21,
      "outputs": []
    },
    {
      "cell_type": "code",
      "source": [
        "model = logr.fit(training_data)\n",
        "predictions = model.transform(test_data)\n",
        "predictions.show(5)  "
      ],
      "metadata": {
        "colab": {
          "base_uri": "https://localhost:8080/"
        },
        "id": "yHC93OakE3pe",
        "outputId": "6b5186f8-ad0b-45f7-e3b5-820ed6e82bb6"
      },
      "execution_count": 22,
      "outputs": [
        {
          "output_type": "stream",
          "name": "stdout",
          "text": [
            "+--------+------+----+---------------+---------+---------------+--------------------+--------------------+----------+\n",
            "| User ID|Gender| Age|EstimatedSalary|Purchased|       features|       rawPrediction|         probability|prediction|\n",
            "+--------+------+----+---------------+---------+---------------+--------------------+--------------------+----------+\n",
            "|15566689|Female|35.0|        57000.0|        0| [35.0,57000.0]|[2.01726864503134...|[0.88259828570303...|       0.0|\n",
            "|15581198|  Male|31.0|        74000.0|        0| [31.0,74000.0]|[2.30539990032011...|[0.90932327007564...|       0.0|\n",
            "|15581282|  Male|37.0|        74000.0|        0| [37.0,74000.0]|[1.04521839252925...|[0.73985564272230...|       0.0|\n",
            "|15584320|Female|37.0|       146000.0|        1|[37.0,146000.0]|[-1.2926205482454...|[0.21540958613233...|       1.0|\n",
            "|15584545|Female|32.0|        86000.0|        0| [32.0,86000.0]|[1.70572982555918...|[0.84628160233199...|       0.0|\n",
            "+--------+------+----+---------------+---------+---------------+--------------------+--------------------+----------+\n",
            "only showing top 5 rows\n",
            "\n"
          ]
        }
      ]
    },
    {
      "cell_type": "markdown",
      "source": [
        "# ACCURACY"
      ],
      "metadata": {
        "id": "j8_m_WQ2FSYD"
      }
    },
    {
      "cell_type": "code",
      "source": [
        "from pyspark.ml.evaluation import MulticlassClassificationEvaluator\n",
        "eval = MulticlassClassificationEvaluator(labelCol='Purchased', metricName='accuracy')\n",
        "print('Accuracy: ', eval.evaluate(predictions)*100)"
      ],
      "metadata": {
        "colab": {
          "base_uri": "https://localhost:8080/"
        },
        "id": "d8oScmv1FUQz",
        "outputId": "374cdf49-9711-4828-f890-c1cea86ac5d4"
      },
      "execution_count": 23,
      "outputs": [
        {
          "output_type": "stream",
          "name": "stdout",
          "text": [
            "Accuracy:  86.86868686868688\n"
          ]
        }
      ]
    },
    {
      "cell_type": "markdown",
      "source": [
        "# RESULTS:\n",
        "Accuracy:  86.87 and no missing values based on EDA"
      ],
      "metadata": {
        "id": "WLR0oDQdFuVG"
      }
    }
  ]
}